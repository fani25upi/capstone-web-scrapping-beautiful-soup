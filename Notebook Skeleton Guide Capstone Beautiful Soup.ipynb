{
 "cells": [
  {
   "cell_type": "markdown",
   "metadata": {},
   "source": [
    "# Capstone Webscrapping using BeautifulSoup\n",
    "\n",
    "This notebook contains guidances & tasks on the data processing for the application\n",
    "\n",
    "## background\n",
    "\n",
    "Create a plot for date and daily price movement of USD to Rp conversion rate from https://www.exchange-rates.org/history/IDR/USD/T\n",
    "\n",
    "## Requesting the Data and Creating a BeautifulSoup\n",
    "\n",
    "Let's begin with requesting the web from the site with `get` method."
   ]
  },
  {
   "cell_type": "code",
   "execution_count": 1,
   "metadata": {
    "ExecuteTime": {
     "end_time": "2020-01-13T05:12:23.275508Z",
     "start_time": "2020-01-13T05:12:20.009898Z"
    }
   },
   "outputs": [],
   "source": [
    "import requests\n",
    "\n",
    "url_get = requests.get('https://www.exchange-rates.org/history/IDR/USD/T')"
   ]
  },
  {
   "cell_type": "markdown",
   "metadata": {},
   "source": [
    "To visualize what exactly you get from the `request.get`, we can use .content so ee what we exactly get, in here i slice it so it won't make our screen full of the html we get from the page. You can delete the slicing if you want to see what we fully get."
   ]
  },
  {
   "cell_type": "code",
   "execution_count": 2,
   "metadata": {
    "ExecuteTime": {
     "end_time": "2020-01-13T05:12:23.290648Z",
     "start_time": "2020-01-13T05:12:23.277650Z"
    }
   },
   "outputs": [
    {
     "data": {
      "text/plain": [
       "b'!DOCTYPE html>\\r\\n<!--[if lt IE 9]>\\r\\n<html class=\"no-js ie8 oldie\" lang=\"en\" xml:lang=\\'en\\'>\\r\\n<![endif]-->\\r\\n<!--[if gt IE 8]><!--><html class=\"no-js\" lang=\"en\" xml:lang=\\'en\\'><!--<![endif]-->\\r\\n<head>\\r\\n<title>USD to IDR exchange rate history</title>\\r\\n<meta http-equiv=\"X-UA-Compatible\" content=\"IE=edge\">\\r\\n<meta name=\"viewport\" content=\"width=device-width, initial-scale=1, maximum-scale=5\">\\r\\n<meta charset=\"utf-8\" /><meta http-equiv=\"Content-Type\" content=\"text/html; charset=utf-8\" />\\r\\n<base href=\"http'"
      ]
     },
     "execution_count": 2,
     "metadata": {},
     "output_type": "execute_result"
    }
   ],
   "source": [
    "url_get.content[1:500]"
   ]
  },
  {
   "cell_type": "markdown",
   "metadata": {},
   "source": [
    "As we can see we get a very unstructured and complex html, which actually contains the codes needed to show the webpages on your web browser. But we as human still confused what and where we can use that piece of code, so here where we use the beautifulsoup. Beautiful soup class will result a beautifulsoup object. Beautiful Soup transforms a complex HTML document into a complex tree of Python objects. \n",
    "\n",
    "Let's make Beautiful soup object and feel free to explore the object here."
   ]
  },
  {
   "cell_type": "code",
   "execution_count": 3,
   "metadata": {
    "ExecuteTime": {
     "end_time": "2020-01-13T05:12:23.808122Z",
     "start_time": "2020-01-13T05:12:23.292610Z"
    }
   },
   "outputs": [
    {
     "name": "stdout",
     "output_type": "stream",
     "text": [
      "<class 'bs4.BeautifulSoup'>\n"
     ]
    }
   ],
   "source": [
    "from bs4 import BeautifulSoup \n",
    "\n",
    "soup = BeautifulSoup(url_get.content,\"html.parser\")\n",
    "print(type(soup))"
   ]
  },
  {
   "cell_type": "code",
   "execution_count": 4,
   "metadata": {},
   "outputs": [
    {
     "name": "stdout",
     "output_type": "stream",
     "text": [
      "<!DOCTYPE html>\n",
      "<!--[if lt IE 9]>\r\n",
      "<html class=\"no-js ie8 oldie\" lang=\"en\" xml:lang='en'>\r\n",
      "<![endif]-->\n",
      "<!--[if gt IE 8]><!-->\n",
      "<html class=\"no-js\" lang=\"en\" xml:lang=\"en\">\n",
      " <!--<![endif]-->\n",
      " <head>\n",
      "  <title>\n",
      "   USD to IDR exchange rate history\n",
      "  </title>\n",
      "  <meta content=\"IE=edge\" http-equiv=\"X-UA-Compatible\"/>\n",
      "  <meta content=\"width=device-width, initial-scale=1, maximum-scale=5\" name=\"viewport\"/>\n",
      "  <meta charset=\"utf-8\">\n",
      "   <meta content=\"text/html; charset=utf-8\" http-equiv=\"Content-Type\">\n",
      "   \n"
     ]
    }
   ],
   "source": [
    "print(soup.prettify()[:500])"
   ]
  },
  {
   "cell_type": "markdown",
   "metadata": {},
   "source": [
    "## Finding the right key to scrap the data & Extracting the right information"
   ]
  },
  {
   "cell_type": "markdown",
   "metadata": {},
   "source": [
    "Find the key and put the key into the `.find()` Put all the exploring the right key at this cell. (please change this markdown with your explanation)"
   ]
  },
  {
   "cell_type": "code",
   "execution_count": 28,
   "metadata": {},
   "outputs": [
    {
     "name": "stdout",
     "output_type": "stream",
     "text": [
      "table border=\"0\" cellpadding=\"0\" cellspacing=\"0\" class=\"history-rates-data\">\n",
      " <thead>\n",
      "  <tr>\n",
      "   <th class=\"ltr-bidi-fix\">\n",
      "    Date\n",
      "   </th>\n",
      "   <th class=\"ltr-bidi-fix\">\n",
      "    US Dollar to Indonesian Rupiah\n",
      "   </th>\n",
      "  </tr>\n",
      " </thead>\n",
      " <tbody>\n",
      "  <tr>\n",
      "   <td>\n",
      "    <a class=\"w\" href=\"/exchange-rate-history/usd-idr-2023-08-31\">\n",
      "     August 31, 2023\n",
      "    </a>\n",
      "    <a class=\"n\" href=\"/exchange-rate-history/usd-idr-2023-08-31\">\n",
      "     2023-8-31\n",
      "    </a>\n",
      "   </td>\n",
      "   <td>\n",
      "    <span class=\"w\">\n",
      "     <span class=\"\n"
     ]
    }
   ],
   "source": [
    "table = soup.find('table', attrs={'history-rates-data'})\n",
    "print(table.prettify()[1:500])"
   ]
  },
  {
   "cell_type": "code",
   "execution_count": 46,
   "metadata": {
    "scrolled": true
   },
   "outputs": [
    {
     "name": "stdout",
     "output_type": "stream",
     "text": [
      "tbody>\n",
      " <tr>\n",
      "  <td>\n",
      "   <a class=\"w\" href=\"/exchange-rate-history/usd-idr-2023-08-31\">\n",
      "    August 31, 2023\n",
      "   </a>\n",
      "   <a class=\"n\" href=\"/exchange-rate-history/usd-idr-2023-08-31\">\n",
      "    2023-8-31\n",
      "   </a>\n",
      "  </td>\n",
      "  <td>\n",
      "   <span class=\"w\">\n",
      "    <span class=\"nowrap\">\n",
      "     <span class=\"currencySymbol\">\n",
      "      $\n",
      "     </span>\n",
      "     1 =\n",
      "    </span>\n",
      "    <span class=\"nowrap\">\n",
      "     <span class=\"currencySymbol\">\n",
      "      Rp\n",
      "     </span>\n",
      "     15,225\n",
      "    </span>\n",
      "   </span>\n",
      "   <span class=\"n\">\n",
      "    <span class=\"nowr\n"
     ]
    }
   ],
   "source": [
    "table = soup.find('tbody')\n",
    "print(table.prettify()[1:500])"
   ]
  },
  {
   "cell_type": "markdown",
   "metadata": {},
   "source": [
    "So I was exploring the web and tried several \"Key\" to find the correct line table with class, after few errors, I found \"a class n\" for the date and \"span class n\" for the rate"
   ]
  },
  {
   "cell_type": "code",
   "execution_count": 54,
   "metadata": {},
   "outputs": [
    {
     "data": {
      "text/plain": [
       "[<a class=\"n\" href=\"/exchange-rate-history/usd-idr-2023-08-31\">2023-8-31</a>,\n",
       " <a class=\"n\" href=\"/exchange-rate-history/usd-idr-2023-08-30\">2023-8-30</a>,\n",
       " <a class=\"n\" href=\"/exchange-rate-history/usd-idr-2023-08-29\">2023-8-29</a>,\n",
       " <a class=\"n\" href=\"/exchange-rate-history/usd-idr-2023-08-28\">2023-8-28</a>,\n",
       " <a class=\"n\" href=\"/exchange-rate-history/usd-idr-2023-08-25\">2023-8-25</a>]"
      ]
     },
     "execution_count": 54,
     "metadata": {},
     "output_type": "execute_result"
    }
   ],
   "source": [
    "table.find_all('a', attrs={'class':'n'})[:5]"
   ]
  },
  {
   "cell_type": "code",
   "execution_count": 53,
   "metadata": {},
   "outputs": [
    {
     "data": {
      "text/plain": [
       "'2023-8-31'"
      ]
     },
     "execution_count": 53,
     "metadata": {},
     "output_type": "execute_result"
    }
   ],
   "source": [
    "table.find_all('a', attrs={'class':'n'})[0].text"
   ]
  },
  {
   "cell_type": "code",
   "execution_count": 55,
   "metadata": {},
   "outputs": [
    {
     "data": {
      "text/plain": [
       "[<span class=\"n\"><span class=\"nowrap\"><span class=\"currencySymbol\">$</span>1 =</span> <span class=\"nowrap\"><span class=\"currencySymbol\">Rp</span>15,225</span></span>,\n",
       " <span class=\"n\"><span class=\"nowrap\"><span class=\"currencySymbol\">$</span>1 =</span> <span class=\"nowrap\"><span class=\"currencySymbol\">Rp</span>15,223</span></span>,\n",
       " <span class=\"n\"><span class=\"nowrap\"><span class=\"currencySymbol\">$</span>1 =</span> <span class=\"nowrap\"><span class=\"currencySymbol\">Rp</span>15,202</span></span>,\n",
       " <span class=\"n\"><span class=\"nowrap\"><span class=\"currencySymbol\">$</span>1 =</span> <span class=\"nowrap\"><span class=\"currencySymbol\">Rp</span>15,248</span></span>,\n",
       " <span class=\"n\"><span class=\"nowrap\"><span class=\"currencySymbol\">$</span>1 =</span> <span class=\"nowrap\"><span class=\"currencySymbol\">Rp</span>15,298</span></span>]"
      ]
     },
     "execution_count": 55,
     "metadata": {},
     "output_type": "execute_result"
    }
   ],
   "source": [
    "table.find_all('span', attrs={'class':'n'})[:5]"
   ]
  },
  {
   "cell_type": "code",
   "execution_count": 56,
   "metadata": {},
   "outputs": [
    {
     "data": {
      "text/plain": [
       "'$1 = Rp15,225'"
      ]
     },
     "execution_count": 56,
     "metadata": {},
     "output_type": "execute_result"
    }
   ],
   "source": [
    "table.find_all('span', attrs={'class':'n'})[0].text"
   ]
  },
  {
   "cell_type": "markdown",
   "metadata": {},
   "source": [
    "Finding row length."
   ]
  },
  {
   "cell_type": "code",
   "execution_count": 24,
   "metadata": {},
   "outputs": [
    {
     "data": {
      "text/plain": [
       "129"
      ]
     },
     "execution_count": 24,
     "metadata": {},
     "output_type": "execute_result"
    }
   ],
   "source": [
    "row = table.find_all('a', attrs={'class':'n'})\n",
    "row_length = len(row)\n",
    "row_length"
   ]
  },
  {
   "cell_type": "code",
   "execution_count": 57,
   "metadata": {
    "scrolled": true
   },
   "outputs": [
    {
     "data": {
      "text/plain": [
       "129"
      ]
     },
     "execution_count": 57,
     "metadata": {},
     "output_type": "execute_result"
    }
   ],
   "source": [
    "row = table.find_all('span', attrs={'class':'n'})\n",
    "row_length = len(row)\n",
    "row_length"
   ]
  },
  {
   "cell_type": "markdown",
   "metadata": {},
   "source": [
    "I needed to check both to make sure I have the same exact amount of data. I took the data from the site table, and it gave me 129 days of conversion rate"
   ]
  },
  {
   "cell_type": "markdown",
   "metadata": {},
   "source": [
    "Do the scrapping process here (please change this markdown with your explanation)"
   ]
  },
  {
   "cell_type": "markdown",
   "metadata": {},
   "source": [
    "I did the looping for the date and rate data and then I created list with date as the 1st column, and rate as the 2nd column"
   ]
  },
  {
   "cell_type": "code",
   "execution_count": 65,
   "metadata": {
    "ExecuteTime": {
     "end_time": "2020-01-13T05:12:24.008256Z",
     "start_time": "2020-01-13T05:12:23.980358Z"
    },
    "scrolled": false
   },
   "outputs": [
    {
     "data": {
      "text/plain": [
       "[('2023-8-31', '$1 = Rp15,225'),\n",
       " ('2023-8-30', '$1 = Rp15,223'),\n",
       " ('2023-8-29', '$1 = Rp15,202'),\n",
       " ('2023-8-28', '$1 = Rp15,248'),\n",
       " ('2023-8-25', '$1 = Rp15,298'),\n",
       " ('2023-8-24', '$1 = Rp15,246'),\n",
       " ('2023-8-23', '$1 = Rp15,301'),\n",
       " ('2023-8-22', '$1 = Rp15,324'),\n",
       " ('2023-8-21', '$1 = Rp15,325'),\n",
       " ('2023-8-18', '$1 = Rp15,321'),\n",
       " ('2023-8-17', '$1 = Rp15,343'),\n",
       " ('2023-8-16', '$1 = Rp15,369'),\n",
       " ('2023-8-15', '$1 = Rp15,318'),\n",
       " ('2023-8-14', '$1 = Rp15,330'),\n",
       " ('2023-8-11', '$1 = Rp15,324'),\n",
       " ('2023-8-10', '$1 = Rp15,263'),\n",
       " ('2023-8-9', '$1 = Rp15,214'),\n",
       " ('2023-8-8', '$1 = Rp15,212'),\n",
       " ('2023-8-7', '$1 = Rp15,225'),\n",
       " ('2023-8-4', '$1 = Rp15,153'),\n",
       " ('2023-8-3', '$1 = Rp15,148'),\n",
       " ('2023-8-2', '$1 = Rp15,227'),\n",
       " ('2023-8-1', '$1 = Rp15,121'),\n",
       " ('2023-7-31', '$1 = Rp15,099'),\n",
       " ('2023-7-28', '$1 = Rp15,107'),\n",
       " ('2023-7-27', '$1 = Rp15,102'),\n",
       " ('2023-7-26', '$1 = Rp15,009'),\n",
       " ('2023-7-25', '$1 = Rp15,027'),\n",
       " ('2023-7-24', '$1 = Rp15,022'),\n",
       " ('2023-7-21', '$1 = Rp15,043'),\n",
       " ('2023-7-20', '$1 = Rp15,056'),\n",
       " ('2023-7-19', '$1 = Rp15,009'),\n",
       " ('2023-7-18', '$1 = Rp14,989'),\n",
       " ('2023-7-17', '$1 = Rp14,972'),\n",
       " ('2023-7-14', '$1 = Rp15,003'),\n",
       " ('2023-7-13', '$1 = Rp14,954'),\n",
       " ('2023-7-12', '$1 = Rp14,935'),\n",
       " ('2023-7-11', '$1 = Rp15,140'),\n",
       " ('2023-7-10', '$1 = Rp15,187'),\n",
       " ('2023-7-7', '$1 = Rp15,162'),\n",
       " ('2023-7-6', '$1 = Rp15,178'),\n",
       " ('2023-7-5', '$1 = Rp15,078'),\n",
       " ('2023-7-4', '$1 = Rp15,020'),\n",
       " ('2023-7-3', '$1 = Rp15,063'),\n",
       " ('2023-6-30', '$1 = Rp15,040'),\n",
       " ('2023-6-29', '$1 = Rp15,059'),\n",
       " ('2023-6-28', '$1 = Rp14,985'),\n",
       " ('2023-6-27', '$1 = Rp14,988'),\n",
       " ('2023-6-26', '$1 = Rp15,045'),\n",
       " ('2023-6-23', '$1 = Rp15,045'),\n",
       " ('2023-6-22', '$1 = Rp14,939'),\n",
       " ('2023-6-21', '$1 = Rp14,945'),\n",
       " ('2023-6-20', '$1 = Rp15,015'),\n",
       " ('2023-6-19', '$1 = Rp15,014'),\n",
       " ('2023-6-16', '$1 = Rp14,961'),\n",
       " ('2023-6-15', '$1 = Rp14,903'),\n",
       " ('2023-6-14', '$1 = Rp14,907'),\n",
       " ('2023-6-13', '$1 = Rp14,870'),\n",
       " ('2023-6-12', '$1 = Rp14,872'),\n",
       " ('2023-6-9', '$1 = Rp14,889'),\n",
       " ('2023-6-8', '$1 = Rp14,842'),\n",
       " ('2023-6-7', '$1 = Rp14,889'),\n",
       " ('2023-6-6', '$1 = Rp14,871'),\n",
       " ('2023-6-5', '$1 = Rp14,855'),\n",
       " ('2023-6-2', '$1 = Rp14,902'),\n",
       " ('2023-6-1', '$1 = Rp14,907'),\n",
       " ('2023-5-31', '$1 = Rp14,991'),\n",
       " ('2023-5-30', '$1 = Rp14,983'),\n",
       " ('2023-5-29', '$1 = Rp14,964'),\n",
       " ('2023-5-26', '$1 = Rp15,008'),\n",
       " ('2023-5-25', '$1 = Rp14,968'),\n",
       " ('2023-5-24', '$1 = Rp14,943'),\n",
       " ('2023-5-23', '$1 = Rp14,904'),\n",
       " ('2023-5-22', '$1 = Rp14,893'),\n",
       " ('2023-5-19', '$1 = Rp14,936'),\n",
       " ('2023-5-18', '$1 = Rp14,923'),\n",
       " ('2023-5-17', '$1 = Rp14,853'),\n",
       " ('2023-5-16', '$1 = Rp14,877'),\n",
       " ('2023-5-15', '$1 = Rp14,789'),\n",
       " ('2023-5-12', '$1 = Rp14,844'),\n",
       " ('2023-5-11', '$1 = Rp14,776'),\n",
       " ('2023-5-10', '$1 = Rp14,698'),\n",
       " ('2023-5-9', '$1 = Rp14,776'),\n",
       " ('2023-5-8', '$1 = Rp14,744'),\n",
       " ('2023-5-5', '$1 = Rp14,675'),\n",
       " ('2023-5-4', '$1 = Rp14,699'),\n",
       " ('2023-5-3', '$1 = Rp14,680'),\n",
       " ('2023-5-2', '$1 = Rp14,747'),\n",
       " ('2023-5-1', '$1 = Rp14,677'),\n",
       " ('2023-4-28', '$1 = Rp14,674'),\n",
       " ('2023-4-27', '$1 = Rp14,691'),\n",
       " ('2023-4-26', '$1 = Rp14,841'),\n",
       " ('2023-4-25', '$1 = Rp14,940'),\n",
       " ('2023-4-24', '$1 = Rp14,934'),\n",
       " ('2023-4-21', '$1 = Rp14,936'),\n",
       " ('2023-4-20', '$1 = Rp14,954'),\n",
       " ('2023-4-19', '$1 = Rp14,995'),\n",
       " ('2023-4-18', '$1 = Rp14,889'),\n",
       " ('2023-4-17', '$1 = Rp14,850'),\n",
       " ('2023-4-14', '$1 = Rp14,782'),\n",
       " ('2023-4-13', '$1 = Rp14,722'),\n",
       " ('2023-4-12', '$1 = Rp14,835'),\n",
       " ('2023-4-11', '$1 = Rp14,915'),\n",
       " ('2023-4-10', '$1 = Rp14,950'),\n",
       " ('2023-4-7', '$1 = Rp14,941'),\n",
       " ('2023-4-6', '$1 = Rp14,931'),\n",
       " ('2023-4-5', '$1 = Rp14,960'),\n",
       " ('2023-4-4', '$1 = Rp14,957'),\n",
       " ('2023-4-3', '$1 = Rp14,922'),\n",
       " ('2023-3-31', '$1 = Rp14,969'),\n",
       " ('2023-3-30', '$1 = Rp15,024'),\n",
       " ('2023-3-29', '$1 = Rp15,034'),\n",
       " ('2023-3-28', '$1 = Rp15,060'),\n",
       " ('2023-3-27', '$1 = Rp15,107'),\n",
       " ('2023-3-24', '$1 = Rp15,165'),\n",
       " ('2023-3-23', '$1 = Rp15,085'),\n",
       " ('2023-3-22', '$1 = Rp15,253'),\n",
       " ('2023-3-21', '$1 = Rp15,301'),\n",
       " ('2023-3-20', '$1 = Rp15,343'),\n",
       " ('2023-3-17', '$1 = Rp15,375'),\n",
       " ('2023-3-16', '$1 = Rp15,429'),\n",
       " ('2023-3-15', '$1 = Rp15,459'),\n",
       " ('2023-3-14', '$1 = Rp15,380'),\n",
       " ('2023-3-13', '$1 = Rp15,416'),\n",
       " ('2023-3-10', '$1 = Rp15,503'),\n",
       " ('2023-3-9', '$1 = Rp15,495'),\n",
       " ('2023-3-8', '$1 = Rp15,449'),\n",
       " ('2023-3-7', '$1 = Rp15,429'),\n",
       " ('2023-3-6', '$1 = Rp15,354')]"
      ]
     },
     "execution_count": 65,
     "metadata": {},
     "output_type": "execute_result"
    }
   ],
   "source": [
    "temp = [] #initiating a tuple\n",
    "\n",
    "for i in range(0, row_length):\n",
    "    date = table.find_all('a', attrs={'class':'n'})[i].text\n",
    "    rate = table.find_all('span', attrs={'class':'n'})[i].text\n",
    "    \n",
    "    #scrapping process\n",
    "    temp.append((date,rate))\n",
    "    \n",
    "temp "
   ]
  },
  {
   "cell_type": "markdown",
   "metadata": {},
   "source": [
    "## Creating data frame & Data wrangling"
   ]
  },
  {
   "cell_type": "markdown",
   "metadata": {},
   "source": [
    "Put the array into dataframe"
   ]
  },
  {
   "cell_type": "code",
   "execution_count": 66,
   "metadata": {
    "ExecuteTime": {
     "end_time": "2020-01-13T05:12:41.517372Z",
     "start_time": "2020-01-13T05:12:29.130015Z"
    }
   },
   "outputs": [
    {
     "data": {
      "text/html": [
       "<div>\n",
       "<style scoped>\n",
       "    .dataframe tbody tr th:only-of-type {\n",
       "        vertical-align: middle;\n",
       "    }\n",
       "\n",
       "    .dataframe tbody tr th {\n",
       "        vertical-align: top;\n",
       "    }\n",
       "\n",
       "    .dataframe thead th {\n",
       "        text-align: right;\n",
       "    }\n",
       "</style>\n",
       "<table border=\"1\" class=\"dataframe\">\n",
       "  <thead>\n",
       "    <tr style=\"text-align: right;\">\n",
       "      <th></th>\n",
       "      <th>date</th>\n",
       "      <th>rate</th>\n",
       "    </tr>\n",
       "  </thead>\n",
       "  <tbody>\n",
       "    <tr>\n",
       "      <th>0</th>\n",
       "      <td>2023-8-31</td>\n",
       "      <td>$1 = Rp15,225</td>\n",
       "    </tr>\n",
       "    <tr>\n",
       "      <th>1</th>\n",
       "      <td>2023-8-30</td>\n",
       "      <td>$1 = Rp15,223</td>\n",
       "    </tr>\n",
       "    <tr>\n",
       "      <th>2</th>\n",
       "      <td>2023-8-29</td>\n",
       "      <td>$1 = Rp15,202</td>\n",
       "    </tr>\n",
       "    <tr>\n",
       "      <th>3</th>\n",
       "      <td>2023-8-28</td>\n",
       "      <td>$1 = Rp15,248</td>\n",
       "    </tr>\n",
       "    <tr>\n",
       "      <th>4</th>\n",
       "      <td>2023-8-25</td>\n",
       "      <td>$1 = Rp15,298</td>\n",
       "    </tr>\n",
       "  </tbody>\n",
       "</table>\n",
       "</div>"
      ],
      "text/plain": [
       "        date           rate\n",
       "0  2023-8-31  $1 = Rp15,225\n",
       "1  2023-8-30  $1 = Rp15,223\n",
       "2  2023-8-29  $1 = Rp15,202\n",
       "3  2023-8-28  $1 = Rp15,248\n",
       "4  2023-8-25  $1 = Rp15,298"
      ]
     },
     "execution_count": 66,
     "metadata": {},
     "output_type": "execute_result"
    }
   ],
   "source": [
    "import pandas as pd\n",
    "\n",
    "df = pd.DataFrame(temp, columns = ('date', 'rate'))\n",
    "df.head()"
   ]
  },
  {
   "cell_type": "code",
   "execution_count": 95,
   "metadata": {},
   "outputs": [
    {
     "data": {
      "text/plain": [
       "(129, 1)"
      ]
     },
     "execution_count": 95,
     "metadata": {},
     "output_type": "execute_result"
    }
   ],
   "source": [
    "df.shape"
   ]
  },
  {
   "cell_type": "markdown",
   "metadata": {},
   "source": [
    "Gotta check if the number is right. yes, it's 129"
   ]
  },
  {
   "cell_type": "code",
   "execution_count": 62,
   "metadata": {},
   "outputs": [
    {
     "data": {
      "text/plain": [
       "date    object\n",
       "rate    object\n",
       "dtype: object"
      ]
     },
     "execution_count": 62,
     "metadata": {},
     "output_type": "execute_result"
    }
   ],
   "source": [
    "df.dtypes"
   ]
  },
  {
   "cell_type": "markdown",
   "metadata": {},
   "source": [
    "Do the data cleaning here (please change this markdown with your explanation of what you do for data wrangling)"
   ]
  },
  {
   "cell_type": "code",
   "execution_count": 68,
   "metadata": {
    "ExecuteTime": {
     "end_time": "2020-01-13T05:12:59.165559Z",
     "start_time": "2020-01-13T05:12:58.910012Z"
    }
   },
   "outputs": [
    {
     "data": {
      "text/plain": [
       "date    datetime64[ns]\n",
       "rate            object\n",
       "dtype: object"
      ]
     },
     "execution_count": 68,
     "metadata": {},
     "output_type": "execute_result"
    }
   ],
   "source": [
    "df['date']=df['date'].astype('datetime64[ns]')\n",
    "df.dtypes"
   ]
  },
  {
   "cell_type": "code",
   "execution_count": 84,
   "metadata": {},
   "outputs": [
    {
     "data": {
      "text/plain": [
       "0      2023-08-31\n",
       "1      2023-08-30\n",
       "2      2023-08-29\n",
       "3      2023-08-28\n",
       "4      2023-08-25\n",
       "          ...    \n",
       "124    2023-03-10\n",
       "125    2023-03-09\n",
       "126    2023-03-08\n",
       "127    2023-03-07\n",
       "128    2023-03-06\n",
       "Name: date, Length: 129, dtype: period[D]"
      ]
     },
     "execution_count": 84,
     "metadata": {},
     "output_type": "execute_result"
    }
   ],
   "source": [
    "df['date'].dt.to_period(\"D\")"
   ]
  },
  {
   "cell_type": "markdown",
   "metadata": {},
   "source": [
    "Changed the date into datetime and just to make sure I made the date into period(\"D\")"
   ]
  },
  {
   "cell_type": "code",
   "execution_count": 76,
   "metadata": {},
   "outputs": [
    {
     "data": {
      "text/plain": [
       "0       = Rp15225\n",
       "1       = Rp15223\n",
       "2       = Rp15202\n",
       "3       = Rp15248\n",
       "4       = Rp15298\n",
       "          ...    \n",
       "124     = Rp15503\n",
       "125     = Rp15495\n",
       "126     = Rp15449\n",
       "127     = Rp15429\n",
       "128     = Rp15354\n",
       "Name: rate, Length: 129, dtype: object"
      ]
     },
     "execution_count": 76,
     "metadata": {},
     "output_type": "execute_result"
    }
   ],
   "source": [
    "df['rate'] = df['rate'].str.replace(',', '')\n",
    "df['rate'] = df['rate'].str.replace('$', '')\n",
    "df['rate']"
   ]
  },
  {
   "cell_type": "code",
   "execution_count": 77,
   "metadata": {},
   "outputs": [
    {
     "data": {
      "text/plain": [
       "0        Rp15225\n",
       "1        Rp15223\n",
       "2        Rp15202\n",
       "3        Rp15248\n",
       "4        Rp15298\n",
       "         ...    \n",
       "124      Rp15503\n",
       "125      Rp15495\n",
       "126      Rp15449\n",
       "127      Rp15429\n",
       "128      Rp15354\n",
       "Name: rate, Length: 129, dtype: object"
      ]
     },
     "execution_count": 77,
     "metadata": {},
     "output_type": "execute_result"
    }
   ],
   "source": [
    "df['rate'] = df['rate'].str.replace(',', '')\n",
    "df['rate'] = df['rate'].str.replace('=', '')\n",
    "df['rate']"
   ]
  },
  {
   "cell_type": "code",
   "execution_count": 78,
   "metadata": {},
   "outputs": [
    {
     "data": {
      "text/plain": [
       "0        15225\n",
       "1        15223\n",
       "2        15202\n",
       "3        15248\n",
       "4        15298\n",
       "        ...   \n",
       "124      15503\n",
       "125      15495\n",
       "126      15449\n",
       "127      15429\n",
       "128      15354\n",
       "Name: rate, Length: 129, dtype: object"
      ]
     },
     "execution_count": 78,
     "metadata": {},
     "output_type": "execute_result"
    }
   ],
   "source": [
    "df['rate'] = df['rate'].str.replace(',', '')\n",
    "df['rate'] = df['rate'].str.replace('Rp', '')\n",
    "df['rate']"
   ]
  },
  {
   "cell_type": "markdown",
   "metadata": {},
   "source": [
    "Since I have anxiety, so I prefer to replace the $1=Rp one by one, to make sure that I did it correctly. Then I changed the numbers into float"
   ]
  },
  {
   "cell_type": "code",
   "execution_count": 85,
   "metadata": {},
   "outputs": [
    {
     "data": {
      "text/plain": [
       "date    datetime64[ns]\n",
       "rate           float64\n",
       "dtype: object"
      ]
     },
     "execution_count": 85,
     "metadata": {},
     "output_type": "execute_result"
    }
   ],
   "source": [
    "df['rate']=df['rate'].astype('float64')\n",
    "df.dtypes"
   ]
  },
  {
   "cell_type": "code",
   "execution_count": 86,
   "metadata": {
    "scrolled": true
   },
   "outputs": [
    {
     "data": {
      "text/html": [
       "<div>\n",
       "<style scoped>\n",
       "    .dataframe tbody tr th:only-of-type {\n",
       "        vertical-align: middle;\n",
       "    }\n",
       "\n",
       "    .dataframe tbody tr th {\n",
       "        vertical-align: top;\n",
       "    }\n",
       "\n",
       "    .dataframe thead th {\n",
       "        text-align: right;\n",
       "    }\n",
       "</style>\n",
       "<table border=\"1\" class=\"dataframe\">\n",
       "  <thead>\n",
       "    <tr style=\"text-align: right;\">\n",
       "      <th></th>\n",
       "      <th>date</th>\n",
       "      <th>rate</th>\n",
       "    </tr>\n",
       "  </thead>\n",
       "  <tbody>\n",
       "    <tr>\n",
       "      <th>0</th>\n",
       "      <td>2023-08-31</td>\n",
       "      <td>15225.0</td>\n",
       "    </tr>\n",
       "    <tr>\n",
       "      <th>1</th>\n",
       "      <td>2023-08-30</td>\n",
       "      <td>15223.0</td>\n",
       "    </tr>\n",
       "    <tr>\n",
       "      <th>2</th>\n",
       "      <td>2023-08-29</td>\n",
       "      <td>15202.0</td>\n",
       "    </tr>\n",
       "    <tr>\n",
       "      <th>3</th>\n",
       "      <td>2023-08-28</td>\n",
       "      <td>15248.0</td>\n",
       "    </tr>\n",
       "    <tr>\n",
       "      <th>4</th>\n",
       "      <td>2023-08-25</td>\n",
       "      <td>15298.0</td>\n",
       "    </tr>\n",
       "  </tbody>\n",
       "</table>\n",
       "</div>"
      ],
      "text/plain": [
       "        date     rate\n",
       "0 2023-08-31  15225.0\n",
       "1 2023-08-30  15223.0\n",
       "2 2023-08-29  15202.0\n",
       "3 2023-08-28  15248.0\n",
       "4 2023-08-25  15298.0"
      ]
     },
     "execution_count": 86,
     "metadata": {},
     "output_type": "execute_result"
    }
   ],
   "source": [
    "df.head()"
   ]
  },
  {
   "cell_type": "code",
   "execution_count": 88,
   "metadata": {},
   "outputs": [],
   "source": [
    "df=df.set_index('date')"
   ]
  },
  {
   "cell_type": "markdown",
   "metadata": {},
   "source": [
    "Data visualisation (please change this markdown with your explanation of what you do for data wrangling)"
   ]
  },
  {
   "cell_type": "markdown",
   "metadata": {},
   "source": [
    "I tried to create the plot without fixing the date using index (as shown above) and the plot turned out weird, so I did that and it fixed the problem! "
   ]
  },
  {
   "cell_type": "markdown",
   "metadata": {},
   "source": [
    "### Implementing your webscrapping to the flask dashboard\n",
    "\n",
    "- Copy paste all of your web scrapping process to the desired position on the `app.py`\n",
    "- Changing the title of the dasboard at `index.html`"
   ]
  },
  {
   "cell_type": "markdown",
   "metadata": {},
   "source": [
    "## Finishing This Notebook with Your Analysis and Conclusion\n",
    "\n",
    "First you can do start with making the data visualisation. "
   ]
  },
  {
   "cell_type": "code",
   "execution_count": 96,
   "metadata": {
    "ExecuteTime": {
     "end_time": "2020-01-13T05:20:56.208237Z",
     "start_time": "2020-01-13T05:20:56.076043Z"
    }
   },
   "outputs": [
    {
     "data": {
      "text/plain": [
       "<Axes: xlabel='date'>"
      ]
     },
     "execution_count": 96,
     "metadata": {},
     "output_type": "execute_result"
    },
    {
     "data": {
      "image/png": "[encoded data removed]",
      "text/plain": [
       "<Figure size 640x480 with 1 Axes>"
      ]
     },
     "metadata": {},
     "output_type": "display_data"
    }
   ],
   "source": [
    "df.plot()"
   ]
  },
  {
   "cell_type": "markdown",
   "metadata": {},
   "source": [
    "- The conversion rate of 1 USD to Rupiah varied daily but ranged between 16.000 to 14.000 between March to September 2023. \n",
    "- The highest conversion rate was around Rp16.000 per Dollar that occured in Early March 2023, while the lowest rate was in May 2023 where 1 USD plummeted to only Rp.14.000. \n",
    "- The USD then gradually increased to aroung Rp. 15.400 from June to September"
   ]
  },
  {
   "cell_type": "markdown",
   "metadata": {},
   "source": [
    "### Implement it at the webapps\n",
    "\n",
    "- You can create additional analysis from the data.\n",
    "- Implement it to the dashboard with at `app.py` dan `index.html`."
   ]
  }
 ],
 "metadata": {
  "kernelspec": {
   "display_name": "wizard_da",
   "language": "python",
   "name": "wizard_da"
  },
  "language_info": {
   "codemirror_mode": {
    "name": "ipython",
    "version": 3
   },
   "file_extension": ".py",
   "mimetype": "text/x-python",
   "name": "python",
   "nbconvert_exporter": "python",
   "pygments_lexer": "ipython3",
   "version": "3.10.12"
  }
 },
 "nbformat": 4,
 "nbformat_minor": 2
}
